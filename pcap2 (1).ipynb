{
 "cells": [
  {
   "cell_type": "code",
   "execution_count": 1,
   "id": "d057b2e5-80c7-4b9f-ac4c-f4e8afa190b8",
   "metadata": {},
   "outputs": [
    {
     "name": "stderr",
     "output_type": "stream",
     "text": [
      "/opt/jupyter/.local/lib/python3.6/site-packages/IPython/core/interactiveshell.py:3072: DtypeWarning: Columns (3,4) have mixed types.Specify dtype option on import or set low_memory=False.\n",
      "  interactivity=interactivity, compiler=compiler, result=result)\n"
     ]
    },
    {
     "name": "stdout",
     "output_type": "stream",
     "text": [
      "331095\n",
      "6     207989\n",
      "17    123088\n",
      "1         11\n",
      "Name: ip.proto, dtype: int64\n"
     ]
    },
    {
     "name": "stderr",
     "output_type": "stream",
     "text": [
      "/opt/jupyter/.local/lib/python3.6/site-packages/ipykernel_launcher.py:25: SettingWithCopyWarning: \n",
      "A value is trying to be set on a copy of a slice from a DataFrame.\n",
      "Try using .loc[row_indexer,col_indexer] = value instead\n",
      "\n",
      "See the caveats in the documentation: https://pandas.pydata.org/pandas-docs/stable/user_guide/indexing.html#returning-a-view-versus-a-copy\n",
      "/opt/jupyter/.local/lib/python3.6/site-packages/ipykernel_launcher.py:26: SettingWithCopyWarning: \n",
      "A value is trying to be set on a copy of a slice from a DataFrame.\n",
      "Try using .loc[row_indexer,col_indexer] = value instead\n",
      "\n",
      "See the caveats in the documentation: https://pandas.pydata.org/pandas-docs/stable/user_guide/indexing.html#returning-a-view-versus-a-copy\n"
     ]
    },
    {
     "name": "stdout",
     "output_type": "stream",
     "text": [
      "207989\n",
      "123088\n",
      "331077\n"
     ]
    }
   ],
   "source": [
    "%matplotlib inline\n",
    "import pandas as pd\n",
    "import matplotlib.pyplot as plt\n",
    "pd.options.display.max_rows = 20\n",
    "pd.options.display.max_columns = None\n",
    "\n",
    "#pcapファイル読み込み\n",
    "pcap = pd.read_csv('0000.csv',sep='|',quotechar='\"')\n",
    "print(len(pcap))\n",
    "\n",
    "#ゴミデータ削除（数値変換できないものを捨てる）\n",
    "pcap = pcap[~pd.to_numeric(pcap[\"ip.len\"], errors=\"coerce\").isnull()]\n",
    "\n",
    "#型変換\n",
    "pcap = pcap.astype({'ip.len': int,'ip.proto': int})\n",
    "\n",
    "#統計情報出力\n",
    "print(pcap['ip.proto'].value_counts(normalize=False))\n",
    "\n",
    "#L4分離\n",
    "pcap_tcp = pcap[pcap['ip.proto'] == 6]\n",
    "pcap_udp = pcap[pcap['ip.proto'] == 17]\n",
    "\n",
    "#ヘッダサイズ調整\n",
    "pcap_tcp['ip.len'] = pcap_tcp['ip.len'] - 20 -20\n",
    "pcap_udp['ip.len'] = pcap_udp['ip.len'] - 20 - 8\n",
    "\n",
    "#L4結合\n",
    "pcap = pd.concat([pcap_tcp,pcap_udp],axis=0)\n",
    "pcap = pcap.sort_values('frame.time', ascending=True)\n",
    "\n",
    "#リスト読み込み\n",
    "iplist = pd.read_csv('iplist.csv')\n",
    "\n",
    "#重複削除\n",
    "iplist = iplist.drop_duplicates(subset='ip.src')\n",
    "\n",
    "\n",
    "print(len(pcap_tcp))\n",
    "print(len(pcap_udp))\n",
    "print(len(pcap_tcp)+len(pcap_udp))"
   ]
  },
  {
   "cell_type": "code",
   "execution_count": 2,
   "id": "df74743a-683e-4378-aaae-510b08c62b48",
   "metadata": {
    "slideshow": {
     "slide_type": "notes"
    },
    "tags": []
   },
   "outputs": [],
   "source": [
    "#Join\n",
    "resalt = pd.merge(pcap,iplist,how=\"left\")"
   ]
  },
  {
   "cell_type": "code",
   "execution_count": 3,
   "id": "dd747c22-0693-4c6f-befe-13a6132c2c01",
   "metadata": {},
   "outputs": [],
   "source": [
    "#時系列処理\n",
    "#resalt['frame.time'] = pd.to_datetime(resalt['frame.time'])\n",
    "#resalt.set_index('frame.time', inplace=True)\n",
    "#resalt"
   ]
  },
  {
   "cell_type": "code",
   "execution_count": 4,
   "id": "b07ccaf1-cba3-4931-89e8-57a286d170d1",
   "metadata": {},
   "outputs": [
    {
     "data": {
      "text/html": [
       "<div>\n",
       "<style scoped>\n",
       "    .dataframe tbody tr th:only-of-type {\n",
       "        vertical-align: middle;\n",
       "    }\n",
       "\n",
       "    .dataframe tbody tr th {\n",
       "        vertical-align: top;\n",
       "    }\n",
       "\n",
       "    .dataframe thead th {\n",
       "        text-align: right;\n",
       "    }\n",
       "</style>\n",
       "<table border=\"1\" class=\"dataframe\">\n",
       "  <thead>\n",
       "    <tr style=\"text-align: right;\">\n",
       "      <th></th>\n",
       "      <th>ip.len</th>\n",
       "      <th>ip.proto</th>\n",
       "    </tr>\n",
       "    <tr>\n",
       "      <th>domain</th>\n",
       "      <th></th>\n",
       "      <th></th>\n",
       "    </tr>\n",
       "  </thead>\n",
       "  <tbody>\n",
       "    <tr>\n",
       "      <th>aag.yahooapis.jp</th>\n",
       "      <td>1068104</td>\n",
       "      <td>7464</td>\n",
       "    </tr>\n",
       "    <tr>\n",
       "      <th>ad.jorudan.co.jp</th>\n",
       "      <td>112760</td>\n",
       "      <td>468</td>\n",
       "    </tr>\n",
       "    <tr>\n",
       "      <th>adingo.jp</th>\n",
       "      <td>172846</td>\n",
       "      <td>1032</td>\n",
       "    </tr>\n",
       "    <tr>\n",
       "      <th>ads.stickyadstv.com</th>\n",
       "      <td>6175</td>\n",
       "      <td>174</td>\n",
       "    </tr>\n",
       "    <tr>\n",
       "      <th>ads.yahoo.com</th>\n",
       "      <td>10651</td>\n",
       "      <td>270</td>\n",
       "    </tr>\n",
       "    <tr>\n",
       "      <th>...</th>\n",
       "      <td>...</td>\n",
       "      <td>...</td>\n",
       "    </tr>\n",
       "    <tr>\n",
       "      <th>static.doubleclick.net</th>\n",
       "      <td>47139</td>\n",
       "      <td>795</td>\n",
       "    </tr>\n",
       "    <tr>\n",
       "      <th>t.appsflyer.com</th>\n",
       "      <td>31318</td>\n",
       "      <td>420</td>\n",
       "    </tr>\n",
       "    <tr>\n",
       "      <th>tm.r-ad.ne.jp</th>\n",
       "      <td>590</td>\n",
       "      <td>66</td>\n",
       "    </tr>\n",
       "    <tr>\n",
       "      <th>uncn.jp</th>\n",
       "      <td>1022</td>\n",
       "      <td>24</td>\n",
       "    </tr>\n",
       "    <tr>\n",
       "      <th>v16-ad.byteoversea.com</th>\n",
       "      <td>22346</td>\n",
       "      <td>546</td>\n",
       "    </tr>\n",
       "  </tbody>\n",
       "</table>\n",
       "<p>39 rows × 2 columns</p>\n",
       "</div>"
      ],
      "text/plain": [
       "                         ip.len  ip.proto\n",
       "domain                                   \n",
       "aag.yahooapis.jp        1068104      7464\n",
       "ad.jorudan.co.jp         112760       468\n",
       "adingo.jp                172846      1032\n",
       "ads.stickyadstv.com        6175       174\n",
       "ads.yahoo.com             10651       270\n",
       "...                         ...       ...\n",
       "static.doubleclick.net    47139       795\n",
       "t.appsflyer.com           31318       420\n",
       "tm.r-ad.ne.jp               590        66\n",
       "uncn.jp                    1022        24\n",
       "v16-ad.byteoversea.com    22346       546\n",
       "\n",
       "[39 rows x 2 columns]"
      ]
     },
     "execution_count": 4,
     "metadata": {},
     "output_type": "execute_result"
    }
   ],
   "source": [
    "resalt.groupby('domain').sum()"
   ]
  },
  {
   "cell_type": "raw",
   "id": "912462f7-f17f-4f98-9485-21774ad43164",
   "metadata": {},
   "source": [
    "resalt.groupby(['domain','ip.src']).sum()"
   ]
  },
  {
   "cell_type": "code",
   "execution_count": 5,
   "id": "32c044f0-6f3b-4443-94c2-a5684d5c4f60",
   "metadata": {},
   "outputs": [
    {
     "data": {
      "text/html": [
       "<div>\n",
       "<style scoped>\n",
       "    .dataframe tbody tr th:only-of-type {\n",
       "        vertical-align: middle;\n",
       "    }\n",
       "\n",
       "    .dataframe tbody tr th {\n",
       "        vertical-align: top;\n",
       "    }\n",
       "\n",
       "    .dataframe thead th {\n",
       "        text-align: right;\n",
       "    }\n",
       "</style>\n",
       "<table border=\"1\" class=\"dataframe\">\n",
       "  <thead>\n",
       "    <tr style=\"text-align: right;\">\n",
       "      <th></th>\n",
       "      <th>domain</th>\n",
       "    </tr>\n",
       "  </thead>\n",
       "  <tbody>\n",
       "    <tr>\n",
       "      <th>pagead-googlehosted.l.google.com</th>\n",
       "      <td>8780</td>\n",
       "    </tr>\n",
       "    <tr>\n",
       "      <th>doubleclick.net</th>\n",
       "      <td>4821</td>\n",
       "    </tr>\n",
       "    <tr>\n",
       "      <th>csi.gstatic.com</th>\n",
       "      <td>3759</td>\n",
       "    </tr>\n",
       "    <tr>\n",
       "      <th>adservice.google.co.jp</th>\n",
       "      <td>2350</td>\n",
       "    </tr>\n",
       "    <tr>\n",
       "      <th>aag.yahooapis.jp</th>\n",
       "      <td>1244</td>\n",
       "    </tr>\n",
       "    <tr>\n",
       "      <th>...</th>\n",
       "      <td>...</td>\n",
       "    </tr>\n",
       "    <tr>\n",
       "      <th>cdp.cloud.unity3d.com</th>\n",
       "      <td>4</td>\n",
       "    </tr>\n",
       "    <tr>\n",
       "      <th>d.image-ad.jp</th>\n",
       "      <td>3</td>\n",
       "    </tr>\n",
       "    <tr>\n",
       "      <th>cdn.treasuredata.com</th>\n",
       "      <td>3</td>\n",
       "    </tr>\n",
       "    <tr>\n",
       "      <th>pixon.ads-pixiv.net</th>\n",
       "      <td>3</td>\n",
       "    </tr>\n",
       "    <tr>\n",
       "      <th>gacraft.jp</th>\n",
       "      <td>2</td>\n",
       "    </tr>\n",
       "  </tbody>\n",
       "</table>\n",
       "<p>39 rows × 1 columns</p>\n",
       "</div>"
      ],
      "text/plain": [
       "                                  domain\n",
       "pagead-googlehosted.l.google.com    8780\n",
       "doubleclick.net                     4821\n",
       "csi.gstatic.com                     3759\n",
       "adservice.google.co.jp              2350\n",
       "aag.yahooapis.jp                    1244\n",
       "...                                  ...\n",
       "cdp.cloud.unity3d.com                  4\n",
       "d.image-ad.jp                          3\n",
       "cdn.treasuredata.com                   3\n",
       "pixon.ads-pixiv.net                    3\n",
       "gacraft.jp                             2\n",
       "\n",
       "[39 rows x 1 columns]"
      ]
     },
     "execution_count": 5,
     "metadata": {},
     "output_type": "execute_result"
    }
   ],
   "source": [
    "resalt['domain'].value_counts().to_frame()"
   ]
  },
  {
   "cell_type": "code",
   "execution_count": 6,
   "id": "39503bb5-20f6-4ea3-9565-c57d53146da3",
   "metadata": {},
   "outputs": [
    {
     "data": {
      "text/html": [
       "<div>\n",
       "<style scoped>\n",
       "    .dataframe tbody tr th:only-of-type {\n",
       "        vertical-align: middle;\n",
       "    }\n",
       "\n",
       "    .dataframe tbody tr th {\n",
       "        vertical-align: top;\n",
       "    }\n",
       "\n",
       "    .dataframe thead th {\n",
       "        text-align: right;\n",
       "    }\n",
       "</style>\n",
       "<table border=\"1\" class=\"dataframe\">\n",
       "  <thead>\n",
       "    <tr style=\"text-align: right;\">\n",
       "      <th></th>\n",
       "      <th>domain</th>\n",
       "    </tr>\n",
       "  </thead>\n",
       "  <tbody>\n",
       "    <tr>\n",
       "      <th>pagead-googlehosted.l.google.com</th>\n",
       "      <td>0.387587</td>\n",
       "    </tr>\n",
       "    <tr>\n",
       "      <th>doubleclick.net</th>\n",
       "      <td>0.212819</td>\n",
       "    </tr>\n",
       "    <tr>\n",
       "      <th>csi.gstatic.com</th>\n",
       "      <td>0.165938</td>\n",
       "    </tr>\n",
       "    <tr>\n",
       "      <th>adservice.google.co.jp</th>\n",
       "      <td>0.103739</td>\n",
       "    </tr>\n",
       "    <tr>\n",
       "      <th>aag.yahooapis.jp</th>\n",
       "      <td>0.054915</td>\n",
       "    </tr>\n",
       "    <tr>\n",
       "      <th>...</th>\n",
       "      <td>...</td>\n",
       "    </tr>\n",
       "    <tr>\n",
       "      <th>cdp.cloud.unity3d.com</th>\n",
       "      <td>0.000177</td>\n",
       "    </tr>\n",
       "    <tr>\n",
       "      <th>d.image-ad.jp</th>\n",
       "      <td>0.000132</td>\n",
       "    </tr>\n",
       "    <tr>\n",
       "      <th>cdn.treasuredata.com</th>\n",
       "      <td>0.000132</td>\n",
       "    </tr>\n",
       "    <tr>\n",
       "      <th>pixon.ads-pixiv.net</th>\n",
       "      <td>0.000132</td>\n",
       "    </tr>\n",
       "    <tr>\n",
       "      <th>gacraft.jp</th>\n",
       "      <td>0.000088</td>\n",
       "    </tr>\n",
       "  </tbody>\n",
       "</table>\n",
       "<p>39 rows × 1 columns</p>\n",
       "</div>"
      ],
      "text/plain": [
       "                                    domain\n",
       "pagead-googlehosted.l.google.com  0.387587\n",
       "doubleclick.net                   0.212819\n",
       "csi.gstatic.com                   0.165938\n",
       "adservice.google.co.jp            0.103739\n",
       "aag.yahooapis.jp                  0.054915\n",
       "...                                    ...\n",
       "cdp.cloud.unity3d.com             0.000177\n",
       "d.image-ad.jp                     0.000132\n",
       "cdn.treasuredata.com              0.000132\n",
       "pixon.ads-pixiv.net               0.000132\n",
       "gacraft.jp                        0.000088\n",
       "\n",
       "[39 rows x 1 columns]"
      ]
     },
     "execution_count": 6,
     "metadata": {},
     "output_type": "execute_result"
    }
   ],
   "source": [
    "resalt['domain'].value_counts(normalize=True).to_frame()"
   ]
  },
  {
   "cell_type": "code",
   "execution_count": 7,
   "id": "9750404a-f723-46e4-9f12-2c725c03ca8a",
   "metadata": {},
   "outputs": [
    {
     "data": {
      "text/html": [
       "<div>\n",
       "<style scoped>\n",
       "    .dataframe tbody tr th:only-of-type {\n",
       "        vertical-align: middle;\n",
       "    }\n",
       "\n",
       "    .dataframe tbody tr th {\n",
       "        vertical-align: top;\n",
       "    }\n",
       "\n",
       "    .dataframe thead th {\n",
       "        text-align: right;\n",
       "    }\n",
       "</style>\n",
       "<table border=\"1\" class=\"dataframe\">\n",
       "  <thead>\n",
       "    <tr style=\"text-align: right;\">\n",
       "      <th></th>\n",
       "      <th>domain</th>\n",
       "    </tr>\n",
       "  </thead>\n",
       "  <tbody>\n",
       "    <tr>\n",
       "      <th>NaN</th>\n",
       "      <td>0.931578</td>\n",
       "    </tr>\n",
       "    <tr>\n",
       "      <th>pagead-googlehosted.l.google.com</th>\n",
       "      <td>0.026520</td>\n",
       "    </tr>\n",
       "    <tr>\n",
       "      <th>doubleclick.net</th>\n",
       "      <td>0.014562</td>\n",
       "    </tr>\n",
       "    <tr>\n",
       "      <th>csi.gstatic.com</th>\n",
       "      <td>0.011354</td>\n",
       "    </tr>\n",
       "    <tr>\n",
       "      <th>adservice.google.co.jp</th>\n",
       "      <td>0.007098</td>\n",
       "    </tr>\n",
       "    <tr>\n",
       "      <th>...</th>\n",
       "      <td>...</td>\n",
       "    </tr>\n",
       "    <tr>\n",
       "      <th>cdp.cloud.unity3d.com</th>\n",
       "      <td>0.000012</td>\n",
       "    </tr>\n",
       "    <tr>\n",
       "      <th>d.image-ad.jp</th>\n",
       "      <td>0.000009</td>\n",
       "    </tr>\n",
       "    <tr>\n",
       "      <th>pixon.ads-pixiv.net</th>\n",
       "      <td>0.000009</td>\n",
       "    </tr>\n",
       "    <tr>\n",
       "      <th>cdn.treasuredata.com</th>\n",
       "      <td>0.000009</td>\n",
       "    </tr>\n",
       "    <tr>\n",
       "      <th>gacraft.jp</th>\n",
       "      <td>0.000006</td>\n",
       "    </tr>\n",
       "  </tbody>\n",
       "</table>\n",
       "<p>40 rows × 1 columns</p>\n",
       "</div>"
      ],
      "text/plain": [
       "                                    domain\n",
       "NaN                               0.931578\n",
       "pagead-googlehosted.l.google.com  0.026520\n",
       "doubleclick.net                   0.014562\n",
       "csi.gstatic.com                   0.011354\n",
       "adservice.google.co.jp            0.007098\n",
       "...                                    ...\n",
       "cdp.cloud.unity3d.com             0.000012\n",
       "d.image-ad.jp                     0.000009\n",
       "pixon.ads-pixiv.net               0.000009\n",
       "cdn.treasuredata.com              0.000009\n",
       "gacraft.jp                        0.000006\n",
       "\n",
       "[40 rows x 1 columns]"
      ]
     },
     "execution_count": 7,
     "metadata": {},
     "output_type": "execute_result"
    }
   ],
   "source": [
    "resalt['domain'].value_counts(dropna=False,normalize=True).to_frame()"
   ]
  },
  {
   "cell_type": "code",
   "execution_count": 8,
   "id": "52242f85-dc7e-4b62-85b0-fbdc5055b1cf",
   "metadata": {},
   "outputs": [
    {
     "data": {
      "text/html": [
       "<div>\n",
       "<style scoped>\n",
       "    .dataframe tbody tr th:only-of-type {\n",
       "        vertical-align: middle;\n",
       "    }\n",
       "\n",
       "    .dataframe tbody tr th {\n",
       "        vertical-align: top;\n",
       "    }\n",
       "\n",
       "    .dataframe thead th {\n",
       "        text-align: right;\n",
       "    }\n",
       "</style>\n",
       "<table border=\"1\" class=\"dataframe\">\n",
       "  <thead>\n",
       "    <tr style=\"text-align: right;\">\n",
       "      <th></th>\n",
       "      <th></th>\n",
       "      <th>ip.len</th>\n",
       "      <th>ip.proto</th>\n",
       "    </tr>\n",
       "    <tr>\n",
       "      <th>ip.dst</th>\n",
       "      <th>domain</th>\n",
       "      <th></th>\n",
       "      <th></th>\n",
       "    </tr>\n",
       "  </thead>\n",
       "  <tbody>\n",
       "    <tr>\n",
       "      <th>100.103.0.10</th>\n",
       "      <th>doubleclick.net</th>\n",
       "      <td>6072</td>\n",
       "      <td>108</td>\n",
       "    </tr>\n",
       "    <tr>\n",
       "      <th>100.103.0.130</th>\n",
       "      <th>aag.yahooapis.jp</th>\n",
       "      <td>79</td>\n",
       "      <td>24</td>\n",
       "    </tr>\n",
       "    <tr>\n",
       "      <th>100.103.0.154</th>\n",
       "      <th>doubleclick.net</th>\n",
       "      <td>4343</td>\n",
       "      <td>255</td>\n",
       "    </tr>\n",
       "    <tr>\n",
       "      <th>100.103.0.16</th>\n",
       "      <th>doubleclick.net</th>\n",
       "      <td>7714</td>\n",
       "      <td>120</td>\n",
       "    </tr>\n",
       "    <tr>\n",
       "      <th>100.103.0.180</th>\n",
       "      <th>doubleclick.net</th>\n",
       "      <td>143</td>\n",
       "      <td>68</td>\n",
       "    </tr>\n",
       "    <tr>\n",
       "      <th>...</th>\n",
       "      <th>...</th>\n",
       "      <td>...</td>\n",
       "      <td>...</td>\n",
       "    </tr>\n",
       "    <tr>\n",
       "      <th>100.103.9.184</th>\n",
       "      <th>csi.gstatic.com</th>\n",
       "      <td>12</td>\n",
       "      <td>6</td>\n",
       "    </tr>\n",
       "    <tr>\n",
       "      <th rowspan=\"3\" valign=\"top\">100.103.9.37</th>\n",
       "      <th>adservice.google.co.jp</th>\n",
       "      <td>139515</td>\n",
       "      <td>2378</td>\n",
       "    </tr>\n",
       "    <tr>\n",
       "      <th>doubleclick.net</th>\n",
       "      <td>0</td>\n",
       "      <td>12</td>\n",
       "    </tr>\n",
       "    <tr>\n",
       "      <th>static.doubleclick.net</th>\n",
       "      <td>11874</td>\n",
       "      <td>132</td>\n",
       "    </tr>\n",
       "    <tr>\n",
       "      <th>100.103.9.63</th>\n",
       "      <th>api.ads.newsdigest.jp</th>\n",
       "      <td>713</td>\n",
       "      <td>12</td>\n",
       "    </tr>\n",
       "  </tbody>\n",
       "</table>\n",
       "<p>464 rows × 2 columns</p>\n",
       "</div>"
      ],
      "text/plain": [
       "                                      ip.len  ip.proto\n",
       "ip.dst        domain                                  \n",
       "100.103.0.10  doubleclick.net           6072       108\n",
       "100.103.0.130 aag.yahooapis.jp            79        24\n",
       "100.103.0.154 doubleclick.net           4343       255\n",
       "100.103.0.16  doubleclick.net           7714       120\n",
       "100.103.0.180 doubleclick.net            143        68\n",
       "...                                      ...       ...\n",
       "100.103.9.184 csi.gstatic.com             12         6\n",
       "100.103.9.37  adservice.google.co.jp  139515      2378\n",
       "              doubleclick.net              0        12\n",
       "              static.doubleclick.net   11874       132\n",
       "100.103.9.63  api.ads.newsdigest.jp      713        12\n",
       "\n",
       "[464 rows x 2 columns]"
      ]
     },
     "execution_count": 8,
     "metadata": {},
     "output_type": "execute_result"
    }
   ],
   "source": [
    "resalt.groupby(['ip.dst','domain']).sum()"
   ]
  },
  {
   "cell_type": "code",
   "execution_count": 9,
   "id": "5bab7804-8aa1-43ad-aad4-ae16984c547d",
   "metadata": {},
   "outputs": [
    {
     "data": {
      "text/plain": [
       "1374"
      ]
     },
     "execution_count": 9,
     "metadata": {},
     "output_type": "execute_result"
    }
   ],
   "source": [
    "#サンプリングユーザ数\n",
    "resalt['ip.dst'].nunique()"
   ]
  },
  {
   "cell_type": "code",
   "execution_count": 10,
   "id": "b15be79b-8e07-43fb-9fd1-d2459e593ec1",
   "metadata": {},
   "outputs": [
    {
     "data": {
      "text/plain": [
       "array([[<AxesSubplot:title={'center':'ip.len'}>,\n",
       "        <AxesSubplot:title={'center':'ip.proto'}>]], dtype=object)"
      ]
     },
     "execution_count": 10,
     "metadata": {},
     "output_type": "execute_result"
    },
    {
     "data": {
      "image/png": "[encoded data removed]",
      "text/plain": [
       "<Figure size 432x288 with 2 Axes>"
      ]
     },
     "metadata": {
      "needs_background": "light"
     },
     "output_type": "display_data"
    }
   ],
   "source": [
    "resalt.hist(bins=150,range=[0,1500])"
   ]
  },
  {
   "cell_type": "code",
   "execution_count": 11,
   "id": "29954cc0-ac7e-4912-b1ab-3d01a0895be4",
   "metadata": {},
   "outputs": [
    {
     "data": {
      "text/plain": [
       "array([[<AxesSubplot:title={'center':'ip.len'}>,\n",
       "        <AxesSubplot:title={'center':'ip.proto'}>]], dtype=object)"
      ]
     },
     "execution_count": 11,
     "metadata": {},
     "output_type": "execute_result"
    },
    {
     "data": {
      "image/png": "[encoded data removed]",
      "text/plain": [
       "<Figure size 432x288 with 2 Axes>"
      ]
     },
     "metadata": {
      "needs_background": "light"
     },
     "output_type": "display_data"
    }
   ],
   "source": [
    "#resalt.plot()\n",
    "resalt.groupby('domain').sum().hist(bins=\"auto\")"
   ]
  },
  {
   "cell_type": "code",
   "execution_count": 12,
   "id": "6192451d-a44a-4ce7-ad5e-c468f6ee1f8b",
   "metadata": {},
   "outputs": [
    {
     "data": {
      "text/plain": [
       "<AxesSubplot:>"
      ]
     },
     "execution_count": 12,
     "metadata": {},
     "output_type": "execute_result"
    },
    {
     "data": {
      "image/png": "[encoded data removed]",
      "text/plain": [
       "<Figure size 432x288 with 1 Axes>"
      ]
     },
     "metadata": {
      "needs_background": "light"
     },
     "output_type": "display_data"
    }
   ],
   "source": [
    "#resalt['domain'].value_counts(dropna=False,normalize=True).sort_index().reset_index()\n",
    "resalt['domain'].value_counts(normalize=True).sort_index().plot(y='ip.len',kind='bar')"
   ]
  },
  {
   "cell_type": "code",
   "execution_count": 13,
   "id": "99ee102b-837b-471b-a1b2-da18e4e7e631",
   "metadata": {},
   "outputs": [
    {
     "ename": "KeyError",
     "evalue": "'index'",
     "output_type": "error",
     "traceback": [
      "\u001b[0;31m---------------------------------------------------------------------------\u001b[0m",
      "\u001b[0;31mKeyError\u001b[0m                                  Traceback (most recent call last)",
      "\u001b[0;32m/usr/local/lib64/python3.6/site-packages/pandas/core/indexes/base.py\u001b[0m in \u001b[0;36mget_loc\u001b[0;34m(self, key, method, tolerance)\u001b[0m\n\u001b[1;32m   2897\u001b[0m             \u001b[0;32mtry\u001b[0m\u001b[0;34m:\u001b[0m\u001b[0;34m\u001b[0m\u001b[0;34m\u001b[0m\u001b[0m\n\u001b[0;32m-> 2898\u001b[0;31m                 \u001b[0;32mreturn\u001b[0m \u001b[0mself\u001b[0m\u001b[0;34m.\u001b[0m\u001b[0m_engine\u001b[0m\u001b[0;34m.\u001b[0m\u001b[0mget_loc\u001b[0m\u001b[0;34m(\u001b[0m\u001b[0mcasted_key\u001b[0m\u001b[0;34m)\u001b[0m\u001b[0;34m\u001b[0m\u001b[0;34m\u001b[0m\u001b[0m\n\u001b[0m\u001b[1;32m   2899\u001b[0m             \u001b[0;32mexcept\u001b[0m \u001b[0mKeyError\u001b[0m \u001b[0;32mas\u001b[0m \u001b[0merr\u001b[0m\u001b[0;34m:\u001b[0m\u001b[0;34m\u001b[0m\u001b[0;34m\u001b[0m\u001b[0m\n",
      "\u001b[0;32mpandas/_libs/index.pyx\u001b[0m in \u001b[0;36mpandas._libs.index.IndexEngine.get_loc\u001b[0;34m()\u001b[0m\n",
      "\u001b[0;32mpandas/_libs/index.pyx\u001b[0m in \u001b[0;36mpandas._libs.index.IndexEngine.get_loc\u001b[0;34m()\u001b[0m\n",
      "\u001b[0;32mpandas/_libs/hashtable_class_helper.pxi\u001b[0m in \u001b[0;36mpandas._libs.hashtable.PyObjectHashTable.get_item\u001b[0;34m()\u001b[0m\n",
      "\u001b[0;32mpandas/_libs/hashtable_class_helper.pxi\u001b[0m in \u001b[0;36mpandas._libs.hashtable.PyObjectHashTable.get_item\u001b[0;34m()\u001b[0m\n",
      "\u001b[0;31mKeyError\u001b[0m: 'index'",
      "\nThe above exception was the direct cause of the following exception:\n",
      "\u001b[0;31mKeyError\u001b[0m                                  Traceback (most recent call last)",
      "\u001b[0;32m<ipython-input-13-9e990f5d4b26>\u001b[0m in \u001b[0;36m<module>\u001b[0;34m\u001b[0m\n\u001b[0;32m----> 1\u001b[0;31m \u001b[0mplt\u001b[0m\u001b[0;34m.\u001b[0m\u001b[0mplot\u001b[0m\u001b[0;34m(\u001b[0m\u001b[0mresalt\u001b[0m\u001b[0;34m[\u001b[0m\u001b[0;34m'index'\u001b[0m\u001b[0;34m]\u001b[0m\u001b[0;34m,\u001b[0m\u001b[0mresalt\u001b[0m\u001b[0;34m[\u001b[0m\u001b[0;34m'ip.len'\u001b[0m\u001b[0;34m]\u001b[0m\u001b[0;34m)\u001b[0m\u001b[0;34m\u001b[0m\u001b[0;34m\u001b[0m\u001b[0m\n\u001b[0m",
      "\u001b[0;32m/usr/local/lib64/python3.6/site-packages/pandas/core/frame.py\u001b[0m in \u001b[0;36m__getitem__\u001b[0;34m(self, key)\u001b[0m\n\u001b[1;32m   2904\u001b[0m             \u001b[0;32mif\u001b[0m \u001b[0mself\u001b[0m\u001b[0;34m.\u001b[0m\u001b[0mcolumns\u001b[0m\u001b[0;34m.\u001b[0m\u001b[0mnlevels\u001b[0m \u001b[0;34m>\u001b[0m \u001b[0;36m1\u001b[0m\u001b[0;34m:\u001b[0m\u001b[0;34m\u001b[0m\u001b[0;34m\u001b[0m\u001b[0m\n\u001b[1;32m   2905\u001b[0m                 \u001b[0;32mreturn\u001b[0m \u001b[0mself\u001b[0m\u001b[0;34m.\u001b[0m\u001b[0m_getitem_multilevel\u001b[0m\u001b[0;34m(\u001b[0m\u001b[0mkey\u001b[0m\u001b[0;34m)\u001b[0m\u001b[0;34m\u001b[0m\u001b[0;34m\u001b[0m\u001b[0m\n\u001b[0;32m-> 2906\u001b[0;31m             \u001b[0mindexer\u001b[0m \u001b[0;34m=\u001b[0m \u001b[0mself\u001b[0m\u001b[0;34m.\u001b[0m\u001b[0mcolumns\u001b[0m\u001b[0;34m.\u001b[0m\u001b[0mget_loc\u001b[0m\u001b[0;34m(\u001b[0m\u001b[0mkey\u001b[0m\u001b[0;34m)\u001b[0m\u001b[0;34m\u001b[0m\u001b[0;34m\u001b[0m\u001b[0m\n\u001b[0m\u001b[1;32m   2907\u001b[0m             \u001b[0;32mif\u001b[0m \u001b[0mis_integer\u001b[0m\u001b[0;34m(\u001b[0m\u001b[0mindexer\u001b[0m\u001b[0;34m)\u001b[0m\u001b[0;34m:\u001b[0m\u001b[0;34m\u001b[0m\u001b[0;34m\u001b[0m\u001b[0m\n\u001b[1;32m   2908\u001b[0m                 \u001b[0mindexer\u001b[0m \u001b[0;34m=\u001b[0m \u001b[0;34m[\u001b[0m\u001b[0mindexer\u001b[0m\u001b[0;34m]\u001b[0m\u001b[0;34m\u001b[0m\u001b[0;34m\u001b[0m\u001b[0m\n",
      "\u001b[0;32m/usr/local/lib64/python3.6/site-packages/pandas/core/indexes/base.py\u001b[0m in \u001b[0;36mget_loc\u001b[0;34m(self, key, method, tolerance)\u001b[0m\n\u001b[1;32m   2898\u001b[0m                 \u001b[0;32mreturn\u001b[0m \u001b[0mself\u001b[0m\u001b[0;34m.\u001b[0m\u001b[0m_engine\u001b[0m\u001b[0;34m.\u001b[0m\u001b[0mget_loc\u001b[0m\u001b[0;34m(\u001b[0m\u001b[0mcasted_key\u001b[0m\u001b[0;34m)\u001b[0m\u001b[0;34m\u001b[0m\u001b[0;34m\u001b[0m\u001b[0m\n\u001b[1;32m   2899\u001b[0m             \u001b[0;32mexcept\u001b[0m \u001b[0mKeyError\u001b[0m \u001b[0;32mas\u001b[0m \u001b[0merr\u001b[0m\u001b[0;34m:\u001b[0m\u001b[0;34m\u001b[0m\u001b[0;34m\u001b[0m\u001b[0m\n\u001b[0;32m-> 2900\u001b[0;31m                 \u001b[0;32mraise\u001b[0m \u001b[0mKeyError\u001b[0m\u001b[0;34m(\u001b[0m\u001b[0mkey\u001b[0m\u001b[0;34m)\u001b[0m \u001b[0;32mfrom\u001b[0m \u001b[0merr\u001b[0m\u001b[0;34m\u001b[0m\u001b[0;34m\u001b[0m\u001b[0m\n\u001b[0m\u001b[1;32m   2901\u001b[0m \u001b[0;34m\u001b[0m\u001b[0m\n\u001b[1;32m   2902\u001b[0m         \u001b[0;32mif\u001b[0m \u001b[0mtolerance\u001b[0m \u001b[0;32mis\u001b[0m \u001b[0;32mnot\u001b[0m \u001b[0;32mNone\u001b[0m\u001b[0;34m:\u001b[0m\u001b[0;34m\u001b[0m\u001b[0;34m\u001b[0m\u001b[0m\n",
      "\u001b[0;31mKeyError\u001b[0m: 'index'"
     ]
    }
   ],
   "source": [
    "plt.plot(resalt['index'],resalt['ip.len'])"
   ]
  },
  {
   "cell_type": "code",
   "execution_count": null,
   "id": "21712ecc-8907-4478-8473-e925ee17e80c",
   "metadata": {},
   "outputs": [],
   "source": [
    "resalt.to_csv('marge.csv', encoding='utf-8')"
   ]
  },
  {
   "cell_type": "code",
   "execution_count": null,
   "id": "f845ca64-1471-41c6-88cb-fb2ab1d21193",
   "metadata": {},
   "outputs": [],
   "source": [
    "#print(pcap.loc['2022-12-28 16:54:30'])\n",
    "#pcap.date_range('2022-12-28', '2022-12-29', freq='M')\n",
    "resalt.resample('S').sum()"
   ]
  },
  {
   "cell_type": "code",
   "execution_count": null,
   "id": "fce1bd5b-5371-41ab-aac6-c6fa7e0ae744",
   "metadata": {},
   "outputs": [],
   "source": []
  },
  {
   "cell_type": "code",
   "execution_count": null,
   "id": "17250f33-9651-4dbd-8fb1-fabd507fcb55",
   "metadata": {},
   "outputs": [],
   "source": []
  }
 ],
 "metadata": {
  "kernelspec": {
   "display_name": "Python 3",
   "language": "python",
   "name": "python3"
  },
  "language_info": {
   "codemirror_mode": {
    "name": "ipython",
    "version": 3
   },
   "file_extension": ".py",
   "mimetype": "text/x-python",
   "name": "python",
   "nbconvert_exporter": "python",
   "pygments_lexer": "ipython3",
   "version": "3.6.8"
  }
 },
 "nbformat": 4,
 "nbformat_minor": 5
}
